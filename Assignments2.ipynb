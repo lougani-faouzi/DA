{
 "cells": [
  {
   "cell_type": "markdown",
   "metadata": {},
   "source": [
    "# Master 2 High Performance Computing and Simulation\n",
    "\n",
    "## Members : lougani faouzi ,hery Andrianantenaina\n",
    "\n",
    "## Report of module Data & Apprentissage TD2\n",
    "\n",
    "\n"
   ]
  },
  {
   "cell_type": "markdown",
   "metadata": {},
   "source": [
    "## Introduction : \n",
    "\n",
    "This file contains our solutions for the different exercises that we have solved.\n",
    "The work of these exercises has been shared between the two members of the group, so that we can discuss the problematic and seek together the solution of each exercise.\n",
    "\n",
    "we used a git repository to version our progress: \n",
    "https://github.com/lougani-faouzi/DA"
   ]
  },
  {
   "cell_type": "raw",
   "metadata": {},
   "source": [
    "Exercise 1 - [%] \n",
    "Exercise 2 - [%] \n",
    "Exercise 3 - [%] \n",
    "Exercise 4 - [%] "
   ]
  },
  {
   "cell_type": "markdown",
   "metadata": {},
   "source": [
    "# Exercice 2.\n",
    "**a)** Compare the performance of LOOCV with 5-fold CV.\n",
    "\n",
    "For our tests we downloaded the sonar.csv file from: https://datahub.io/machine-learning/sonar#pandas\n",
    "and we save it locally on the same folder of our work\n"
   ]
  },
  {
   "cell_type": "code",
   "execution_count": 5,
   "metadata": {},
   "outputs": [
    {
     "name": "stdout",
     "output_type": "stream",
     "text": [
      "Perfor report  :\n",
      "The accuracy for LOOCV     : 0.836 (0.371)\n",
      "The accuracy for 5-fold CV : 0.716 (0.141)\n"
     ]
    }
   ],
   "source": [
    "# a. Comparaison of LOOCV and 5-fold CV : ---------------------------------\n",
    "from numpy import mean\n",
    "from numpy import std\n",
    "from pandas import read_csv\n",
    "from sklearn.model_selection import LeaveOneOut,cross_val_score\n",
    "from sklearn.ensemble import RandomForestClassifier\n",
    "\n",
    "# load dataset\n",
    "url = './sonar.csv'\n",
    "dataframe = read_csv(url, skiprows=[1])\n",
    "data = dataframe.values\n",
    "\n",
    "n_samples = len(data)\n",
    "#print(n_samples)\n",
    "# split into inputs and outputs\n",
    "X, y = data[:, :-1], data[:, -1]\n",
    "\n",
    "# create loocv procedure\n",
    "cvLOOCV = LeaveOneOut()\n",
    "\n",
    "# create model\n",
    "model = RandomForestClassifier(random_state=1)\n",
    "\n",
    "# evaluate model\n",
    "loocv_scores = cross_val_score(model, X, y, scoring='accuracy', cv=cvLOOCV, n_jobs=-1)\n",
    "k_foldcv_scores = cross_val_score(model, X, y, scoring='accuracy', cv=5, n_jobs=-1)\n",
    "\n",
    "# report performance\n",
    "print('Perfor report  :')\n",
    "print('The accuracy for LOOCV     : %.3f (%.3f)' % (mean(loocv_scores), std(loocv_scores)))\n",
    "print('The accuracy for 5-fold CV : %.3f (%.3f)' % (mean(k_foldcv_scores), std(k_foldcv_scores)))"
   ]
  },
  {
   "cell_type": "markdown",
   "metadata": {},
   "source": [
    "**b)** Investigate the effect of the size of data to the comparison. Specifically run (a) with 25%, 50%, and 75% of the data."
   ]
  },
  {
   "cell_type": "code",
   "execution_count": 6,
   "metadata": {},
   "outputs": [
    {
     "name": "stdout",
     "output_type": "stream",
     "text": [
      "report performance : \n",
      "---25% of original data -----------------------------------\n",
      "Accuracy for LOOCV         : 1.000 (0.000)\n",
      "Accuracy for 5-fold CV     : 1.000 (0.000)\n",
      "---50% of original data -----------------------------------\n",
      "Accuracy for LOOCV         : 0.932 (0.252)\n",
      "Accuracy for 5-fold CV     : 0.923 (0.022)\n",
      "---75% of original data -----------------------------------\n",
      "Accuracy for LOOCV         : 0.852 (0.355)\n",
      "Accuracy for 5-fold CV     : 0.748 (0.130)\n"
     ]
    }
   ],
   "source": [
    "# b. effect of the size data to the comparison :\n",
    "n_samples = len(data)\n",
    "X1, y1 = X[:int(.25 * n_samples)], y[:int(.25 * n_samples)]  # 25% \n",
    "X2, y2 = X[:int(.50 * n_samples)], y[:int(.50 * n_samples)]  # 50%\n",
    "X3, y3 = X[:int(.75 * n_samples)], y[:int(.75 * n_samples)]  # 75%\n",
    "\n",
    "# create loocv procedure\n",
    "cvLOOCV = LeaveOneOut()\n",
    "\n",
    "# create model\n",
    "model = RandomForestClassifier(random_state=1)\n",
    "# evaluate models across different length of data : \n",
    "# 25% of the original data : -----------------------------------------------------------------------------\n",
    "loocv_scores_1 = cross_val_score(model, X1, y1, scoring='accuracy', cv=cvLOOCV, n_jobs=-1)\n",
    "kfold_scores_1 = cross_val_score(model, X1, y1, scoring='accuracy', cv=5, n_jobs=-1)\n",
    "\n",
    "# 50% of the original data : -----------------------------------------------------------------------------\n",
    "loocv_scores_2 = cross_val_score(model, X2, y2, scoring='accuracy', cv=cvLOOCV, n_jobs=-1)\n",
    "kfold_scores_2 = cross_val_score(model, X2, y2, scoring='accuracy', cv=5, n_jobs=-1)\n",
    "\n",
    "# 75% of the original data : -----------------------------------------------------------------------------\n",
    "loocv_scores_3 = cross_val_score(model, X3, y3, scoring='accuracy', cv=cvLOOCV, n_jobs=-1)\n",
    "kfold_scores_3 = cross_val_score(model, X3, y3, scoring='accuracy', cv=5, n_jobs=-1)\n",
    "\n",
    "# report performance\n",
    "print('Perfor report  ')\n",
    "\n",
    "print('---25% of original data -----------------------------------')\n",
    "print('Accuracy for LOOCV         : %.3f (%.3f)' % (mean(loocv_scores_1), std(loocv_scores_1)))\n",
    "print('Accuracy for 5-fold CV     : %.3f (%.3f)' % (mean(kfold_scores_1), std(kfold_scores_1)))\n",
    "\n",
    "print('---50% of original data -----------------------------------')\n",
    "print('Accuracy for LOOCV         : %.3f (%.3f)' % (mean(loocv_scores_2), std(loocv_scores_2)))\n",
    "print('Accuracy for 5-fold CV     : %.3f (%.3f)' % (mean(kfold_scores_2), std(kfold_scores_2)))\n",
    "\n",
    "print('---75% of original data -----------------------------------')\n",
    "print('Accuracy for LOOCV         : %.3f (%.3f)' % (mean(loocv_scores_3), std(loocv_scores_3)))\n",
    "print('Accuracy for 5-fold CV     : %.3f (%.3f)' % (mean(kfold_scores_3), std(kfold_scores_3)))\n"
   ]
  },
  {
   "cell_type": "code",
   "execution_count": null,
   "metadata": {},
   "outputs": [],
   "source": []
  }
 ],
 "metadata": {
  "kernelspec": {
   "display_name": "Python 3",
   "language": "python",
   "name": "python3"
  },
  "language_info": {
   "codemirror_mode": {
    "name": "ipython",
    "version": 3
   },
   "file_extension": ".py",
   "mimetype": "text/x-python",
   "name": "python",
   "nbconvert_exporter": "python",
   "pygments_lexer": "ipython3",
   "version": "3.8.8"
  }
 },
 "nbformat": 4,
 "nbformat_minor": 2
}
