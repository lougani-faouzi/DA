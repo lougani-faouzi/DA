{
 "cells": [
  {
   "cell_type": "markdown",
   "metadata": {},
   "source": [
    "# Master 2 High Performance Computing and Simulation\n",
    "\n",
    "## Members : lougani faouzi ,hery Andrianantenaina\n",
    "\n",
    "## Report of module Data & Apprentissage TD2\n",
    "\n",
    "\n"
   ]
  },
  {
   "cell_type": "markdown",
   "metadata": {},
   "source": [
    "## Introduction : \n",
    "\n",
    "This file contains our solutions for the different exercises that we have solved.\n",
    "The work of these exercises has been shared between the two members of the group, so that we can discuss the problematic and seek together the solution of each exercise.\n",
    "\n",
    "we used a git repository to version our progress: \n",
    "https://github.com/lougani-faouzi/DA"
   ]
  },
  {
   "cell_type": "raw",
   "metadata": {},
   "source": [
    "Exercise 1 - [%] \n",
    "Exercise 2 - [%] \n",
    "Exercise 3 - [%] \n",
    "Exercise 4 - [%] "
   ]
  },
  {
   "cell_type": "markdown",
   "metadata": {},
   "source": [
    "# Exercice 2.\n",
    "**a)** Compare the performance of LOOCV with 5-fold CV.\n",
    "\n",
    "For our tests we downloaded the sonar.csv file from: https://datahub.io/machine-learning/sonar#pandas\n",
    "and we save it locally on the same folder of our work\n"
   ]
  },
  {
   "cell_type": "code",
   "execution_count": 2,
   "metadata": {},
   "outputs": [
    {
     "name": "stdout",
     "output_type": "stream",
     "text": [
      "Perfor report  :\n",
      "The accuracy for LOOCV     : 0.836 (0.371)\n",
      "The accuracy for 5-fold CV : 0.716 (0.141)\n"
     ]
    }
   ],
   "source": [
    "# a. Comparaison of LOOCV and 5-fold CV : ---------------------------------\n",
    "from numpy import mean\n",
    "from numpy import std\n",
    "from pandas import read_csv\n",
    "from sklearn.model_selection import LeaveOneOut,cross_val_score\n",
    "from sklearn.ensemble import RandomForestClassifier\n",
    "\n",
    "# load dataset\n",
    "url = './sonar.csv'\n",
    "dataframe = read_csv(url, skiprows=[1])\n",
    "data = dataframe.values\n",
    "\n",
    "n_samples = len(data)\n",
    "#print(n_samples)\n",
    "# split into inputs and outputs\n",
    "X, y = data[:, :-1], data[:, -1]\n",
    "\n",
    "# create loocv procedure\n",
    "cvLOOCV = LeaveOneOut()\n",
    "\n",
    "# create model\n",
    "model = RandomForestClassifier(random_state=1)\n",
    "\n",
    "# evaluate model\n",
    "loocv_scores = cross_val_score(model, X, y, scoring='accuracy', cv=cvLOOCV, n_jobs=-1)\n",
    "k_foldcv_scores = cross_val_score(model, X, y, scoring='accuracy', cv=5, n_jobs=-1)\n",
    "\n",
    "# report performance\n",
    "print('Perfor report  :')\n",
    "print('The accuracy for LOOCV     : %.3f (%.3f)' % (mean(loocv_scores), std(loocv_scores)))\n",
    "print('The accuracy for 5-fold CV : %.3f (%.3f)' % (mean(k_foldcv_scores), std(k_foldcv_scores)))"
   ]
  },
  {
   "cell_type": "markdown",
   "metadata": {},
   "source": [
    "**b)** Investigate the effect of the size of data to the comparison. Specifically run (a) with 25%, 50%, and 75% of the data."
   ]
  },
  {
   "cell_type": "code",
   "execution_count": 3,
   "metadata": {},
   "outputs": [
    {
     "name": "stdout",
     "output_type": "stream",
     "text": [
      "Perfor report  \n",
      "---25% of original data -----------------------------------\n",
      "Accuracy for LOOCV         : 1.000 (0.000)\n",
      "Accuracy for 5-fold CV     : 1.000 (0.000)\n",
      "---50% of original data -----------------------------------\n",
      "Accuracy for LOOCV         : 0.932 (0.252)\n",
      "Accuracy for 5-fold CV     : 0.923 (0.022)\n",
      "---75% of original data -----------------------------------\n",
      "Accuracy for LOOCV         : 0.852 (0.355)\n",
      "Accuracy for 5-fold CV     : 0.748 (0.130)\n"
     ]
    }
   ],
   "source": [
    "# b. effect of the size data to the comparison :\n",
    "n_samples = len(data)\n",
    "X1, y1 = X[:int(.25 * n_samples)], y[:int(.25 * n_samples)]  # 25% \n",
    "X2, y2 = X[:int(.50 * n_samples)], y[:int(.50 * n_samples)]  # 50%\n",
    "X3, y3 = X[:int(.75 * n_samples)], y[:int(.75 * n_samples)]  # 75%\n",
    "\n",
    "# create loocv procedure\n",
    "cvLOOCV = LeaveOneOut()\n",
    "\n",
    "# create model\n",
    "model = RandomForestClassifier(random_state=1)\n",
    "# evaluate models across different length of data : \n",
    "# 25% of the original data : -----------------------------------------------------------------------------\n",
    "loocv_scores_1 = cross_val_score(model, X1, y1, scoring='accuracy', cv=cvLOOCV, n_jobs=-1)\n",
    "kfold_scores_1 = cross_val_score(model, X1, y1, scoring='accuracy', cv=5, n_jobs=-1)\n",
    "\n",
    "# 50% of the original data : -----------------------------------------------------------------------------\n",
    "loocv_scores_2 = cross_val_score(model, X2, y2, scoring='accuracy', cv=cvLOOCV, n_jobs=-1)\n",
    "kfold_scores_2 = cross_val_score(model, X2, y2, scoring='accuracy', cv=5, n_jobs=-1)\n",
    "\n",
    "# 75% of the original data : -----------------------------------------------------------------------------\n",
    "loocv_scores_3 = cross_val_score(model, X3, y3, scoring='accuracy', cv=cvLOOCV, n_jobs=-1)\n",
    "kfold_scores_3 = cross_val_score(model, X3, y3, scoring='accuracy', cv=5, n_jobs=-1)\n",
    "\n",
    "# report performance\n",
    "print('Perfor report  ')\n",
    "\n",
    "print('---25% of original data -----------------------------------')\n",
    "print('Accuracy for LOOCV         : %.3f (%.3f)' % (mean(loocv_scores_1), std(loocv_scores_1)))\n",
    "print('Accuracy for 5-fold CV     : %.3f (%.3f)' % (mean(kfold_scores_1), std(kfold_scores_1)))\n",
    "\n",
    "print('---50% of original data -----------------------------------')\n",
    "print('Accuracy for LOOCV         : %.3f (%.3f)' % (mean(loocv_scores_2), std(loocv_scores_2)))\n",
    "print('Accuracy for 5-fold CV     : %.3f (%.3f)' % (mean(kfold_scores_2), std(kfold_scores_2)))\n",
    "\n",
    "print('---75% of original data -----------------------------------')\n",
    "print('Accuracy for LOOCV         : %.3f (%.3f)' % (mean(loocv_scores_3), std(loocv_scores_3)))\n",
    "print('Accuracy for 5-fold CV     : %.3f (%.3f)' % (mean(kfold_scores_3), std(kfold_scores_3)))\n"
   ]
  },
  {
   "cell_type": "markdown",
   "metadata": {},
   "source": [
    "**c)** Investigate the effect of having one small data class to the comparison. Specifically, consider that you have only a portion of the one of the classes: 25%, 50%, or 75%, and apply the training-evaluation procedure with CV."
   ]
  },
  {
   "cell_type": "code",
   "execution_count": 18,
   "metadata": {},
   "outputs": [
    {
     "name": "stdout",
     "output_type": "stream",
     "text": [
      "----------------------------------------\n",
      "score_time    for 5 fold CV    : 0.013\n",
      "mean fit time for 5 fold CV    : 0.134\n",
      "----------------------------------------\n",
      "score_time    for 10 fold CV    : 0.013\n",
      "mean fit time for 10 fold CV    : 0.133\n",
      "----------------------------------------\n",
      "score_time    for 15 fold CV    : 0.013\n",
      "mean fit time for 15 fold CV    : 0.133\n",
      "----------------------------------------\n",
      "score_time    for 20 fold CV    : 0.013\n",
      "mean fit time for 20 fold CV    : 0.127\n",
      "----------------------------------------\n",
      "score_time    for 25 fold CV    : 0.013\n",
      "mean fit time for 25 fold CV    : 0.131\n",
      "----------------------------------------\n",
      "score_time    for 30 fold CV    : 0.014\n",
      "mean fit time for 30 fold CV    : 0.133\n",
      "----------------------------------------\n",
      "----------------------------------------\n",
      "Direct application:\n",
      "score_time for 30 fold CV 0.014\n",
      "score_time for 30 fold CV 0.133\n"
     ]
    }
   ],
   "source": [
    "\n",
    "from sklearn.model_selection import cross_validate\n",
    "\n",
    "for n in (5, 10, 15, 20, 25, 30):\n",
    "    \n",
    "    scores = cross_validate(model, X1, y1, scoring='precision_macro', cv=n, return_estimator=True)\n",
    "    sorted(scores.keys())\n",
    "   \n",
    "    print('----------------------------------------')\n",
    "    print('score_time    for %d fold CV    : %.3f' % (n, mean(scores['score_time'])))\n",
    "    print('mean fit time for %d fold CV    : %.3f' % (n, mean(scores['fit_time'])))  \n",
    "print('----------------------------------------')\n",
    "print('----------------------------------------')\n",
    "print('Direct application:')\n",
    "scores_ = cross_validate(model, X1, y1, scoring='precision_macro', cv=30, return_estimator=True)\n",
    "print('score_time for 30 fold CV %.3f'  % mean(scores_['score_time']))\n",
    "print('score_time for 30 fold CV %.3f'  % mean(scores_['fit_time']))\n"
   ]
  },
  {
   "cell_type": "markdown",
   "metadata": {},
   "source": [
    "### Comments  and conclusion:\n",
    "We can observe from the previous results that for the case where we have one small data set LOOCV performs well, 5-fold CV gives nearly the same performance results, but actually when we apply the CV procedure with different number of 'k' in k-fold CV we don't really see significant results : we can conclude that k-fold CV present meaningless results in this case (as we have for example score time and mean fit time remains the same for different k), in the other hand, when we fit with a larger data set the accuracy for LOOCV decreases.\n",
    "\n",
    "To conclude, if we have a small data set we prefer LOOCV to cross-validate our model as we will get more significant performance metrics, in the other hand if we have large amount of training data, k-fold cross validation could be a better choice, because if we take LOOCV instead there will be too many iterations to perform the evaluation."
   ]
  },
  {
   "cell_type": "markdown",
   "metadata": {},
   "source": [
    "# Exercice 3\n",
    "\n",
    "**a)** Give a meaningful definition of what an \"outlier\" could be in this situation. What would be the modifications needed to be done to the original density-based method in order to be relevant in this case?\n",
    "   * To interpret what could be an outlier in such kind of data (time-series data), we can look for example at music recognition (or sound recognition in general) in situations when we search to identify the artist, a set of instruments, or also if we cant to remove or reduce noises in the music, in finance for example when we seek the anomalies in same transactions.., so it could represent noises, anomalies, special behavious in the dignal..\n",
    "   * It could be a good idea to use the frequency-domain representation of data to simplify their analysis.\n"
   ]
  },
  {
   "cell_type": "markdown",
   "metadata": {},
   "source": [
    "**b)** Construct a synthetic 2D signal with parametrized proportion of outliers (like the exercises we saw in Lab6) and demonstrate the application of a LOF-based solution.  \n",
    "* In this application we are going to fit our model to a set of random data to detect the outliers, using LOF model which is an unsupervised model based on the measures of densities of each object with respect to their neighbors."
   ]
  },
  {
   "cell_type": "code",
   "execution_count": 6,
   "metadata": {},
   "outputs": [
    {
     "data": {
      "image/png": "[encoded data removed]",
      "text/plain": [
       "<Figure size 432x288 with 1 Axes>"
      ]
     },
     "metadata": {
      "needs_background": "light"
     },
     "output_type": "display_data"
    }
   ],
   "source": [
    "import numpy as np\n",
    "from matplotlib import pyplot as plt\n",
    "import seaborn as sns# outlier/anomaly detection\n",
    "from sklearn.neighbors import LocalOutlierFactor\n",
    "from numpy import quantile, where, random\n",
    "\n",
    "N_samples = 1000\n",
    "N_outliers = 50\n",
    "\n",
    "data = np.random.random((N_samples,2))\n",
    "#print(data)\n",
    "\n",
    "X, y = data[:, :-1], data[:, -1]\n",
    "\n",
    "#print(X.type)\n",
    "\n",
    "# Add outlier data\n",
    "np.random.seed(0)\n",
    "X[:N_outliers] = 0.3 * np.random.normal(size=(N_outliers, 1))\n",
    "y[:N_outliers] = -0.3 * np.random.normal(size=N_outliers)\n",
    "\n",
    "\n",
    "#plt.scatter(X, y, color='yellowgreen', marker='.', label='Inliers')\n",
    "\n",
    "# model specification\n",
    "model = LocalOutlierFactor(n_neighbors = 20, metric='manhattan')\n",
    "\n",
    "# model fitting\n",
    "y_pred = model.fit_predict(data)\n",
    "\n",
    "index = np.where(y_pred == -1)\n",
    "values = data[index]\n",
    "\n",
    "#model.negative_outlier_factor_\n",
    "\n",
    "plt.scatter(X, y)\n",
    "#plt.scatter(X[:N_outliers], y[:N_outliers], color='yellow', marker='.', label='Inliers')\n",
    "\n",
    "plt.scatter(values[:,0],values[:,1], color='r')  # Outliers\n",
    "plt.show()"
   ]
  },
  {
   "cell_type": "code",
   "execution_count": null,
   "metadata": {},
   "outputs": [],
   "source": []
  }
 ],
 "metadata": {
  "kernelspec": {
   "display_name": "Python 3",
   "language": "python",
   "name": "python3"
  },
  "language_info": {
   "codemirror_mode": {
    "name": "ipython",
    "version": 3
   },
   "file_extension": ".py",
   "mimetype": "text/x-python",
   "name": "python",
   "nbconvert_exporter": "python",
   "pygments_lexer": "ipython3",
   "version": "3.8.8"
  }
 },
 "nbformat": 4,
 "nbformat_minor": 2
}
