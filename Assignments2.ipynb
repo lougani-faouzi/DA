{
 "cells": [
  {
   "cell_type": "markdown",
   "metadata": {},
   "source": [
    "# Master 2 High Performance Computing and Simulation\n",
    "\n",
    "## Members : lougani faouzi ,hery Andrianantenaina\n",
    "\n",
    "## Report of module Data & Apprentissage TD2\n",
    "\n",
    "\n"
   ]
  },
  {
   "cell_type": "markdown",
   "metadata": {},
   "source": [
    "## Introduction : \n",
    "\n",
    "This file contains our solutions for the different exercises that we have solved.\n",
    "The work of these exercises has been shared between the two members of the group, so that we can discuss the problematic and seek together the solution of each exercise.\n",
    "\n",
    "we used a git repository to version our progress: \n",
    "https://github.com/lougani-faouzi/DA"
   ]
  },
  {
   "cell_type": "raw",
   "metadata": {},
   "source": [
    "Exercise 1 - [%] \n",
    "Exercise 2 - [%] \n",
    "Exercise 3 - [%] \n",
    "Exercise 4 - [%] "
   ]
  },
  {
   "cell_type": "markdown",
   "metadata": {},
   "source": [
    "# Exercice 2.\n",
    "**a)** Compare the performance of LOOCV with 5-fold CV.\n",
    "\n",
    "For our tests we downloaded the sonar.csv file from: https://datahub.io/machine-learning/sonar#pandas\n",
    "and we save it locally on the same folder of our work\n"
   ]
  },
  {
   "cell_type": "code",
   "execution_count": 3,
   "metadata": {},
   "outputs": [
    {
     "name": "stdout",
     "output_type": "stream",
     "text": [
      "Perfor report  :\n",
      "The accuracy for LOOCV     : 0.836 (0.371)\n",
      "The accuracy for 5-fold CV : 0.716 (0.141)\n"
     ]
    }
   ],
   "source": [
    "# a. Comparaison of LOOCV and 5-fold CV : ---------------------------------\n",
    "from numpy import mean\n",
    "from numpy import std\n",
    "from pandas import read_csv\n",
    "from sklearn.model_selection import LeaveOneOut,cross_val_score\n",
    "from sklearn.ensemble import RandomForestClassifier\n",
    "\n",
    "# load dataset\n",
    "url = './sonar.csv'\n",
    "dataframe = read_csv(url, skiprows=[1])\n",
    "data = dataframe.values\n",
    "\n",
    "n_samples = len(data)\n",
    "#print(n_samples)\n",
    "# split into inputs and outputs\n",
    "X, y = data[:, :-1], data[:, -1]\n",
    "\n",
    "# create loocv procedure\n",
    "cvLOOCV = LeaveOneOut()\n",
    "\n",
    "# create model\n",
    "model = RandomForestClassifier(random_state=1)\n",
    "\n",
    "# evaluate model\n",
    "loocv_scores = cross_val_score(model, X, y, scoring='accuracy', cv=cvLOOCV, n_jobs=-1)\n",
    "k_foldcv_scores = cross_val_score(model, X, y, scoring='accuracy', cv=5, n_jobs=-1)\n",
    "\n",
    "# report performance\n",
    "print('Perfor report  :')\n",
    "print('The accuracy for LOOCV     : %.3f (%.3f)' % (mean(loocv_scores), std(loocv_scores)))\n",
    "print('The accuracy for 5-fold CV : %.3f (%.3f)' % (mean(k_foldcv_scores), std(k_foldcv_scores)))"
   ]
  },
  {
   "cell_type": "code",
   "execution_count": null,
   "metadata": {},
   "outputs": [],
   "source": []
  }
 ],
 "metadata": {
  "kernelspec": {
   "display_name": "Python 3",
   "language": "python",
   "name": "python3"
  },
  "language_info": {
   "codemirror_mode": {
    "name": "ipython",
    "version": 3
   },
   "file_extension": ".py",
   "mimetype": "text/x-python",
   "name": "python",
   "nbconvert_exporter": "python",
   "pygments_lexer": "ipython3",
   "version": "3.8.8"
  }
 },
 "nbformat": 4,
 "nbformat_minor": 2
}
