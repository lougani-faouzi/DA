{
 "cells": [
  {
   "cell_type": "markdown",
   "metadata": {},
   "source": [
    "# Master 2 High Performance Computing and Simulation\n",
    "\n",
    "## Members : lougani faouzi ,hery Andrianantenaina\n",
    "\n",
    "## Report of module Data & Apprentissage TD2\n",
    "\n",
    "\n"
   ]
  },
  {
   "cell_type": "markdown",
   "metadata": {},
   "source": [
    "## Introduction : \n",
    "\n",
    "This file contains our solutions for the different exercises that we have solved.\n",
    "The work of these exercises has been shared between the two members of the group, so that we can discuss the problematic and seek together the solution of each exercise.\n",
    "\n",
    "we used a git repository to version our progress: \n",
    "https://github.com/lougani-faouzi/DA"
   ]
  },
  {
   "cell_type": "raw",
   "metadata": {},
   "source": [
    "Exercise 1 - [%] \n",
    "Exercise 2 - [%] \n",
    "Exercise 3 - [%] \n",
    "Exercise 4 - [%] "
   ]
  },
  {
   "cell_type": "code",
   "execution_count": null,
   "metadata": {},
   "outputs": [],
   "source": []
  }
 ],
 "metadata": {
  "kernelspec": {
   "display_name": "Python 3",
   "language": "python",
   "name": "python3"
  },
  "language_info": {
   "codemirror_mode": {
    "name": "ipython",
    "version": 3
   },
   "file_extension": ".py",
   "mimetype": "text/x-python",
   "name": "python",
   "nbconvert_exporter": "python",
   "pygments_lexer": "ipython3",
   "version": "3.8.8"
  }
 },
 "nbformat": 4,
 "nbformat_minor": 2
}
