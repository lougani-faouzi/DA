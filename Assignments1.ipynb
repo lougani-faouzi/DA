{
 "cells": [
  {
   "cell_type": "markdown",
   "metadata": {},
   "source": [
    "# Master 2 High Performance Computing and Simulation\n",
    "\n",
    "## Members : lougani faouzi ,hery Andrianantenaina\n",
    "\n",
    "## Report of module Data & Apprentissage TD1\n",
    "\n",
    "## Exercice 01\n"
   ]
  },
  {
   "cell_type": "code",
   "execution_count": 1,
   "metadata": {},
   "outputs": [
    {
     "data": {
      "image/png": "[encoded data removed]",
      "text/plain": [
       "<Figure size 432x288 with 1 Axes>"
      ]
     },
     "metadata": {
      "needs_background": "light"
     },
     "output_type": "display_data"
    }
   ],
   "source": [
    "import numpy as np\n",
    "from matplotlib import pyplot as plt\n",
    "import random\n",
    "import math\n",
    "from sklearn import datasets\n",
    "from sklearn.datasets import make_regression\n",
    "from sklearn.linear_model import LinearRegression, RANSACRegressor\n",
    "from sklearn.metrics import mean_squared_error\n",
    "\n",
    "n_outliers = 30\n",
    "n_samples = 100\n",
    "\n",
    "\n",
    "def model(x,theta):\n",
    "    return x.dot(theta)\n",
    "\n",
    "\n",
    "\n",
    "def MY_RANSAC(x, y,taille, n, k, t, d):\n",
    "    iterator = 0\n",
    "    meilleur_erreur = 1000\n",
    "    \n",
    "    meilleur_modele = None\n",
    "    meilleur_ensemble = None\n",
    "    meilleur_ensemble_points = None\n",
    "    \n",
    "\n",
    "    while iterator < k:\n",
    "        # on definis l'enssemble de points aléatoires\n",
    "        points_aleatoires = random.sample(range(0,taille-1), 20)\n",
    "        x_alea = np.zeros(shape=(n,1))\n",
    "        y_alea = np.zeros(shape=(n,1))\n",
    "    \n",
    "        j = 0\n",
    "        for i in points_aleatoires:\n",
    "            x_alea[j] = x[i]\n",
    "            y_alea[j] = y[i]\n",
    "            j = j+ 1\n",
    "\n",
    "        \n",
    "        #Parametres du modèle\n",
    "\n",
    "        X = np.hstack((x_alea,np.ones(x_alea.shape)))\n",
    "        reg = LinearRegression().fit(X,y_alea)\n",
    "        modele_possible = reg.coef_\n",
    "        ensemble_points = points_aleatoires\n",
    "\n",
    "    \n",
    "\n",
    "        #Le reste des points de notre dataset\n",
    "        x_reste  =  np.zeros(shape=(taille-n,1))\n",
    "        y_reste =  np.zeros(shape=(taille-n,1))\n",
    "        point_rest = np.zeros(shape=(taille-n,1))\n",
    "        k = 0\n",
    "        for i in range(taille): \n",
    "            if i not in points_aleatoires:\n",
    "                x_reste[k] = x[i]\n",
    "                y_reste[k] = y[i]\n",
    "                point_rest[k] = i\n",
    "                k = k + 1\n",
    "\n",
    "\n",
    "        X_reste = np.hstack((x_reste,np.ones(x_reste.shape)))\n",
    "        y_pred = reg.predict(X_reste)\n",
    "\n",
    "        \n",
    "        # ajout des points qui repondent au critère à l'enssemble de points \n",
    "        for  point in range(taille-n):\n",
    "\n",
    "            if (math.sqrt((y_reste[point] - y_pred[point] )**2)) < t:\n",
    "                ensemble_points.append(point)\n",
    "\n",
    "\n",
    "\n",
    "\n",
    "        # la cardinalité de l'ensemble de poits est superieure à d \n",
    "        if len(ensemble_points) > d:\n",
    "            x_points   =  np.zeros(shape=(len(ensemble_points) ,1))\n",
    "            y_points =  np.zeros(shape=(len(ensemble_points) ,1))\n",
    "\n",
    "            k = 0\n",
    "            for i in ensemble_points :\n",
    "                x_points[k] = x[i] \n",
    "                y_points[k] = y[i]\n",
    "                k  = k + 1 \n",
    "\n",
    "\n",
    "            X_points= np.hstack((x_points,np.ones(x_points.shape)))\n",
    "\n",
    "            x_test = X_points[:len(X_points)-int(len(X_points)*0.7)]\n",
    "            y_test = y_points[:len(X_points)-int(len(y_points)*0.7)]\n",
    "\n",
    "            x_train =X_points[len(X_points)-int(len(X_points)*0.7):]\n",
    "            y_train = y_points[len(X_points)-int(len(y_points)*0.7):]\n",
    "        \n",
    "\n",
    "    \n",
    "            reg = LinearRegression().fit(x_train,y_train)\n",
    "\n",
    "            y_predict = reg.predict(x_test)\n",
    "\n",
    "            modele_possible = reg.coef_\n",
    "            erreur = mean_squared_error(y_test, y_predict)\n",
    "\n",
    "            #print(erreur)\n",
    "            if erreur < meilleur_erreur:\n",
    "                meilleur_modele = modele_possible\n",
    "                meilleur_ensemble_points = ensemble_points\n",
    "                meilleur_erreur = erreur\n",
    "\n",
    "    \n",
    "        iterator = iterator + 1\n",
    "\n",
    "\n",
    "    return meilleur_modele, meilleur_ensemble_points, meilleur_erreur\n",
    "\n",
    "x, y = make_regression(n_samples=n_samples, n_features=1, n_informative=1, noise=10)\n",
    "\n",
    "# utilisation des données de Lab2\n",
    "diabetes = datasets.load_diabetes()\n",
    "\n",
    "x = diabetes.data[:, np.newaxis, 2]\n",
    "y = diabetes.target\n",
    "\n",
    "# Add outlier data\n",
    "np.random.seed(0)\n",
    "\n",
    "x = np.append(x,3 + 0.5 * np.random.normal(size=(n_outliers, 1)))\n",
    "\n",
    "y = np.append(y,-3 + 0.5 * np.random.normal(size=n_outliers ))\n",
    "\n",
    "x = np.append(x,-3 + 0.5 * np.random.normal(size=(n_outliers, 1)))\n",
    "\n",
    "y = np.append(y,3 + 0.5 * np.random.normal(size=n_outliers ))\n",
    "\n",
    "\n",
    "\n",
    "\n",
    "\n",
    "x = x.reshape(x.shape[0],1)\n",
    "y = y.reshape(y.shape[0],1)\n",
    "\n",
    "\n",
    "taille =2*n_outliers + n_samples\n",
    "inlier_mask = n_samples - n_outliers\n",
    "\t\n",
    "n = 20\n",
    "k = 10\n",
    "t = 2\n",
    "d = 20\n",
    "\n",
    "\n",
    "meilleur_modele, meilleur_ensemble_points, meilleur_erreur = MY_RANSAC(x, y,taille, n, k, t, d)\n",
    "\n",
    "\n",
    "#Linear regression, pour la comparaison avec RANSAC\n",
    "lr = LinearRegression()\n",
    "lr.fit(x, y)\n",
    "\n",
    "#utilisation de scikit learn ransac regression\n",
    "ransac = RANSACRegressor()\n",
    "ransac.fit(x, y)\n",
    "\n",
    "\n",
    "#Tracer les lignes \n",
    "line_X = np.arange(x[:inlier_mask].min(), x[:inlier_mask].max())[:, np.newaxis]\n",
    "line_y = lr.predict(line_X)\n",
    "line_y_ransac = ransac.predict(line_X)\n",
    "\n",
    "\n",
    "lw = 2\n",
    "plt.scatter(x, y, color='red', marker='o', label='Inliers')\n",
    "plt.plot(line_X, line_y, color='navy', linewidth=lw, label='Linear regressor')\n",
    "plt.plot(line_X, line_y_ransac, color='cornflowerblue', linewidth=lw, label='RANSAC regressor')\n",
    "plt.legend(loc='upper right')\n",
    "plt.xlabel(\"Input\")\n",
    "plt.ylabel(\"Response\")\n",
    "\n",
    "plt.show()\n"
   ]
  },
  {
   "cell_type": "markdown",
   "metadata": {},
   "source": [
    "## Exercice 02\n",
    "\n",
    "a) How we can design a solution to the problem of robust estimate of the center of a data point cloud that adopts \n",
    "the RANSAC principle.\n",
    "\n",
    "1. Define NB as the number of times we will redo steps 2,3,4,5,6\n",
    "2. Calculate the error R which will be half of the greatest distance between two points of the set.\n",
    "3. Define N_C the number of points that we accept to consider a point as a center\n",
    "4. Choose a random point in the data set.\n",
    "5. Calculate the distance between this random point and the others. If the distance < N_C, add it to the cloud of the chosen center\n",
    "6. If the number of points associated with the chosen center > N_C, this point will be the center ,then the new center will replace the old center defined in a previous iteration if its cloud is greater.\n",
    "7. Repeat NB steps, then return to the last iteration where the center is found.\n",
    "\n"
   ]
  },
  {
   "cell_type": "markdown",
   "metadata": {},
   "source": [
    "b) Extend this approach to the clustering of the data in a given number of 𝑘 clusters by considering an existing clustering method, such as 𝑘-means, as the internal model learner).\n",
    "\n",
    "c) Could you imagine other applications?\n",
    "\n",
    "* Recognition of objects is one of the RANSAC applications.\n"
   ]
  },
  {
   "cell_type": "markdown",
   "metadata": {},
   "source": [
    "d) Abstract pseudocode that expresses the generalization of RANSAC in arbitrary learning problems\n",
    "\n",
    "* Select N (the number of samples)randomly. \n",
    "* we estimates a model hypothesis for each sample.\n",
    "* find the number of inliers for each hypothesis.\n",
    "* we chose the hypothesis with largest number of inliners as a model and use them to affect model parameters.\n",
    "* The inlier is chosen as a point that his residual R is in some threshold T of the hypothesis.\n",
    "* We can deduce the correct hypothesis because our N samples contain at least one sample  which consists of only true correspondences.\n",
    "\n",
    "\n",
    "\n"
   ]
  },
  {
   "cell_type": "markdown",
   "metadata": {},
   "source": [
    "## Exercice 03\n",
    "\n",
    "Cross validation :\n",
    "it is a technique used to see how well will the model fit to unknown data, based on deviding the set of data that we have into multiple sets, that we will use either to train the model or to test it\n",
    "\n",
    "Using this technique for time series involve taking into account new data generated as time goes. This can make a problem because observations from the training set must occur before their corresponding test set =>temporal dependency between observations, and that every test set contains unique observations =>good choice of test set\n",
    "\n",
    "Here we start with a small subset of data for training purpose, forecast for the later data points and then checking the accuracy for the forecasted data points. The same forecasted data points are then included as part of the next training dataset and subsequent data points are forecasted,As the following example explains:\n",
    "\n",
    "* We do training 1 then the test 2\n",
    "* We do training 1 and 2 then the test 3\n",
    "* We do training 1,2,3 then test 4\n",
    "\n",
    "\n",
    "Pseudocode that would apply (i) and (ii) will be like:\n",
    "\n"
   ]
  },
  {
   "cell_type": "raw",
   "metadata": {},
   "source": [
    "1. Define D[N] as table that contains N datasets \n",
    "3. Generate N-1 pairs of training=>test sets pairs from D (table of dataset):\n",
    "\n",
    "* fold 1: Training[1] =>Test[2]\n",
    "* fold i: Training[1,...,i] =>Test[i+1] \n",
    "* fold N-1: Training[1,...,N-1] =>Test[N]\n",
    "\n",
    "4. Performance = The average of the accuracies of the N-1 test fold."
   ]
  },
  {
   "cell_type": "markdown",
   "metadata": {},
   "source": [
    "## Exercice 04\n",
    "\n",
    "a) multi-class SVM with the <1 class-vs-all classes> architecture, where 𝑘 classifiers as many as the classes, and each one of them will be trained to distinguish the objects of one class against any other class.\n",
    "c)Make a simple demonstration on Iris dataset"
   ]
  },
  {
   "cell_type": "code",
   "execution_count": 1,
   "metadata": {},
   "outputs": [
    {
     "data": {
      "text/plain": [
       "Text(0.5, 1.0, ' 1 class-vs-all classes SVM ')"
      ]
     },
     "execution_count": 1,
     "metadata": {},
     "output_type": "execute_result"
    },
    {
     "data": {
      "image/png": "[encoded data removed]",
      "text/plain": [
       "<Figure size 432x288 with 1 Axes>"
      ]
     },
     "metadata": {
      "needs_background": "light"
     },
     "output_type": "display_data"
    }
   ],
   "source": [
    "import numpy as np\n",
    "from sklearn import svm, datasets\n",
    "import matplotlib.pyplot as plt\n",
    "from matplotlib.colors import ListedColormap\n",
    "from sklearn.model_selection import train_test_split\n",
    "from sklearn.preprocessing import label_binarize\n",
    "from sklearn.multiclass import OneVsRestClassifier\n",
    "from sklearn.svm import LinearSVC\n",
    "\n",
    " \n",
    "\n",
    "#load iris data by Taking the first two features using 2D dataset\n",
    "iris_data = datasets.load_iris()\n",
    "X = iris_data.data[:, :2]\n",
    "Y = iris_data.target\n",
    "\n",
    "\n",
    "# split traning and test sets, \n",
    "X_train, X_test, y_train, y_test = \\\n",
    "train_test_split(X, Y, stratify=Y, test_size=0.7)\n",
    "    \n",
    "# Create color maps\n",
    "cmap_light = ListedColormap(['#FFAAAA', '#AAFFAA', '#AAAAFF'])\n",
    "cmap_bold = ListedColormap(['#FF0000', '#00FF00', '#0000FF'])\n",
    "\n",
    "#begin to learn predict each class against the other\n",
    "# Create an SVM instance and fit out data. here to plot the support vectors we will not scale our data .\n",
    "clf = OneVsRestClassifier(svm.SVC(kernel='linear', probability=True))\n",
    "#predicting the label k for which the corresponding classifier reports the highest confidence score \n",
    "y_score = clf.fit(X_train, y_train).decision_function(X_test)\n",
    "\n",
    "#Plot the decision boundary. \n",
    "x_min, x_max = X[:, 0].min() - 1, X[:, 0].max() + 1\n",
    "y_min, y_max = X[:, 1].min() - 1, X[:, 1].max() + 1\n",
    "# step size in the mesh\n",
    "h = .02 \n",
    "xx, yy = np.meshgrid(np.arange(x_min, x_max, h),np.arange(y_min, y_max, h))\n",
    "Z = clf.predict(np.c_[xx.ravel(), yy.ravel()])\n",
    "\n",
    "# Put the result into a color plot\n",
    "Z = Z.reshape(xx.shape)\n",
    "plt.figure()\n",
    "plt.pcolormesh(xx, yy, Z, cmap=cmap_light, shading='auto')\n",
    "\n",
    "# Plot also the training points\n",
    "plt.scatter(X[:, 0], X[:, 1], c=Y, cmap=cmap_bold,edgecolor='k', s=20)\n",
    "plt.title(\" 1 class-vs-all classes SVM \")\n"
   ]
  },
  {
   "cell_type": "markdown",
   "metadata": {},
   "source": [
    "b) multi-class SVM with <*1 class-vs-1 class*> architecture, where we will need $\\frac{1}{2}(k-1)^2$ classifiers, each one of them deciding among two classes only.c)Make a simple demonstration on Iris dataset  "
   ]
  },
  {
   "cell_type": "code",
   "execution_count": 1,
   "metadata": {},
   "outputs": [
    {
     "data": {
      "text/plain": [
       "Text(0.5, 1.0, ' 1 class-vs-1 class SVM ')"
      ]
     },
     "execution_count": 1,
     "metadata": {},
     "output_type": "execute_result"
    },
    {
     "data": {
      "image/png": "[encoded data removed]",
      "text/plain": [
       "<Figure size 432x288 with 1 Axes>"
      ]
     },
     "metadata": {
      "needs_background": "light"
     },
     "output_type": "display_data"
    }
   ],
   "source": [
    "import numpy as np\n",
    "from sklearn import svm, datasets\n",
    "import matplotlib.pyplot as plt\n",
    "from matplotlib.colors import ListedColormap\n",
    "from sklearn.model_selection import train_test_split\n",
    "from sklearn.preprocessing import label_binarize\n",
    "from sklearn.multiclass import OneVsOneClassifier\n",
    "from sklearn.svm import LinearSVC\n",
    "\n",
    "# Create color maps\n",
    "cmap_light = ListedColormap(['#FFAAAA', '#AAFFAA', '#AAAAFF'])\n",
    "cmap_bold = ListedColormap(['#FF0000', '#00FF00', '#0000FF'])\n",
    "\n",
    "#load iris data by Taking the first two features using 2D dataset\n",
    "iris_data = datasets.load_iris()\n",
    "X = iris_data.data[:, :2]\n",
    "y = iris_data.target\n",
    "\n",
    "#This is implemented as ``argmax(decision_function(X), axis=1)`` which will return the label of the class with most votes by estimators predicting the outcome of a decision for each possible class pair.\n",
    "\n",
    "\n",
    "# shuffle and split training and test sets\n",
    "X_train, X_test, y_train, y_test = \\\n",
    "    train_test_split(X, y, stratify=y, test_size=0.7)\n",
    "\n",
    "#begin to learn predict each class against the other\n",
    "# Create an SVM instance and fit out data. here to plot the support vectors we will not scale our data .\n",
    "clf = OneVsOneClassifier(LinearSVC(max_iter=1000000, random_state=0))\n",
    "y_score = clf.fit(X_train, y_train).decision_function(X_test)\n",
    "\n",
    "#Plot the decision boundary. \n",
    "x_min, x_max = X[:, 0].min() - 1, X[:, 0].max() + 1\n",
    "y_min, y_max = X[:, 1].min() - 1, X[:, 1].max() + 1\n",
    "# step size in the mesh\n",
    "h = .02 \n",
    "xx, yy = np.meshgrid(np.arange(x_min, x_max, h),np.arange(y_min, y_max, h))\n",
    "Z = clf.predict(np.c_[xx.ravel(), yy.ravel()])\n",
    "\n",
    "# Put the result into a color plot\n",
    "Z = Z.reshape(xx.shape)\n",
    "plt.figure()\n",
    "plt.pcolormesh(xx, yy, Z, cmap=cmap_light, shading='auto')\n",
    "\n",
    "# Plot also the training points\n",
    "plt.scatter(X[:, 0], X[:, 1], c=y, cmap=cmap_bold,edgecolor='k', s=20)\n",
    "plt.title(\" 1 class-vs-1 class SVM \")\n",
    "\n",
    "\n"
   ]
  },
  {
   "cell_type": "code",
   "execution_count": null,
   "metadata": {},
   "outputs": [],
   "source": []
  }
 ],
 "metadata": {
  "kernelspec": {
   "display_name": "Python 3",
   "language": "python",
   "name": "python3"
  },
  "language_info": {
   "codemirror_mode": {
    "name": "ipython",
    "version": 3
   },
   "file_extension": ".py",
   "mimetype": "text/x-python",
   "name": "python",
   "nbconvert_exporter": "python",
   "pygments_lexer": "ipython3",
   "version": "3.8.8"
  }
 },
 "nbformat": 4,
 "nbformat_minor": 2
}
